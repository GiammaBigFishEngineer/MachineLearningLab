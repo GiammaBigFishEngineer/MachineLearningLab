{
 "cells": [
  {
   "cell_type": "markdown",
   "id": "e6cfdc7b",
   "metadata": {},
   "source": [
    "# LAB 03 machine learning"
   ]
  },
  {
   "cell_type": "code",
   "execution_count": 13,
   "id": "fe94ce1b",
   "metadata": {},
   "outputs": [],
   "source": [
    "import pandas as pd\n",
    "import numpy as np"
   ]
  },
  {
   "cell_type": "code",
   "execution_count": 14,
   "id": "5108177a",
   "metadata": {},
   "outputs": [
    {
     "name": "stdout",
     "output_type": "stream",
     "text": [
      "     0    1    2    3            4\n",
      "0  5.1  3.5  1.4  0.2  Iris-setosa\n",
      "1  4.9  3.0  1.4  0.2  Iris-setosa\n",
      "2  4.7  3.2  1.3  0.2  Iris-setosa\n",
      "3  4.6  3.1  1.5  0.2  Iris-setosa\n",
      "4  5.0  3.6  1.4  0.2  Iris-setosa\n",
      "(150, 5)\n"
     ]
    }
   ],
   "source": [
    "df = pd.read_csv(\"iris.data\", header=None)\n",
    "print(df.head())\n",
    "print(df.shape)"
   ]
  },
  {
   "cell_type": "code",
   "execution_count": 15,
   "id": "fa41ec07",
   "metadata": {},
   "outputs": [
    {
     "name": "stdout",
     "output_type": "stream",
     "text": [
      "480 120\n",
      "120 30\n"
     ]
    }
   ],
   "source": [
    "random_data = df.sample(frac=0.2, random_state=42)\n",
    "X_test = np.array(random_data.values[:,:4])\n",
    "y_test = np.array(random_data.values[:,4])\n",
    "random_data = df.sample(frac=0.8, random_state=42)\n",
    "X_train = np.array(random_data.values[:,:4])\n",
    "y_train = np.array(random_data.values[:,4])\n",
    "\n",
    "print(X_train.size, X_test.size)\n",
    "print(y_train.size, y_test.size)"
   ]
  },
  {
   "cell_type": "code",
   "execution_count": 16,
   "id": "09bfd98d",
   "metadata": {},
   "outputs": [],
   "source": [
    "class KNearestNeighbors:\n",
    "    def __init__(self , k, distance_metric=\"euclidean\"):\n",
    "        self.k = k\n",
    "        self.distance_metric = distance_metric\n",
    "\n",
    "    def fit(self , X, y):\n",
    "        \"\"\"\n",
    "        Store the 'prior knowledge 'of you model that will be used\n",
    "        to predict new labels.\n",
    "        :param X : input data points , ndarray , shape = (R,C).\n",
    "        :param y : input labels , ndarray , shape = (R,).\n",
    "        \"\"\"\n",
    "        self.X_train = X\n",
    "        self.y_train = y\n",
    "\n",
    "    def calculate_distance(self, p:np.array, q:np.array): \n",
    "        if self.distance_metric == \"euclidean\":\n",
    "            return np.sqrt(np.sum((p-q)**2))\n",
    "        elif self.distance_metric == \"cosine\":\n",
    "            cosine = np.sum(p*q) / (np.sqrt(np.sum(p**2)) * np.sqrt(np.sum(q**2)))\n",
    "            return 1 - np.abs(cosine)\n",
    "        elif self.distance_metric == \"manhattan\":\n",
    "            return np.sum(np.abs(p-q))\n",
    "        else:\n",
    "            raise TypeError\n",
    "\n",
    "    def predict(self , X):\n",
    "        \"\"\"\n",
    "        Run the KNN classification on X.\n",
    "        :param X: input data points , ndarray , shape = (N,C).\n",
    "        :return: labels : ndarray , shape = (N,).\n",
    "        \"\"\"\n",
    "        N, C = X.shape\n",
    "        predictions = []\n",
    "        for i in range(N):\n",
    "            distance = np.array([\n",
    "                self.calculate_distance(X[i],row_train)\n",
    "                for row_train in self.X_train])\n",
    "            neighbors_idx = np.argsort(distance)[:self.k]\n",
    "            neighbor_labels = self.y_train[neighbors_idx]\n",
    "            unique_labels, counts = np.unique(neighbor_labels, return_counts=True)\n",
    "            majority_label = unique_labels[np.argmax(counts)]\n",
    "            predictions.append(majority_label)\n",
    "        \n",
    "        return np.array(predictions)\n"
   ]
  },
  {
   "cell_type": "code",
   "execution_count": 17,
   "id": "edbb3ab2",
   "metadata": {},
   "outputs": [
    {
     "name": "stdout",
     "output_type": "stream",
     "text": [
      "Euclidean Accuracy: 100.0 %\n"
     ]
    }
   ],
   "source": [
    "KNN = KNearestNeighbors(k=4, distance_metric=\"euclidean\")\n",
    "KNN.fit(X_train, y_train)\n",
    "y_pred = KNN.predict(X_test)\n",
    "tp = 0\n",
    "for i in range(y_pred.size):\n",
    "    if y_pred[i] == y_test[i]:\n",
    "        tp = tp + 1\n",
    "\n",
    "accuracy_percent = (tp / y_pred.size) * 100\n",
    "print(\"Euclidean Accuracy:\", accuracy_percent, \"%\")"
   ]
  },
  {
   "cell_type": "code",
   "execution_count": 18,
   "id": "fce8d20f",
   "metadata": {},
   "outputs": [
    {
     "name": "stdout",
     "output_type": "stream",
     "text": [
      "Cosine Accuracy: 96.66666666666667 %\n"
     ]
    }
   ],
   "source": [
    "KNN = KNearestNeighbors(k=4, distance_metric=\"cosine\")\n",
    "KNN.fit(X_train, y_train)\n",
    "y_pred = KNN.predict(X_test)\n",
    "tp = 0\n",
    "for i in range(y_pred.size):\n",
    "    if y_pred[i] == y_test[i]:\n",
    "        tp = tp + 1\n",
    "\n",
    "accuracy_percent = (tp / y_pred.size) * 100\n",
    "print(\"Cosine Accuracy:\", accuracy_percent, \"%\")"
   ]
  },
  {
   "cell_type": "code",
   "execution_count": 19,
   "id": "9e83501d",
   "metadata": {},
   "outputs": [
    {
     "name": "stdout",
     "output_type": "stream",
     "text": [
      "Manhattan Accuracy: 100.0 %\n"
     ]
    }
   ],
   "source": [
    "KNN = KNearestNeighbors(k=4, distance_metric=\"manhattan\")\n",
    "KNN.fit(X_train, y_train)\n",
    "y_pred = KNN.predict(X_test)\n",
    "tp = 0\n",
    "for i in range(y_pred.size):\n",
    "    if y_pred[i] == y_test[i]:\n",
    "        tp = tp + 1\n",
    "\n",
    "accuracy_percent = (tp / y_pred.size) * 100\n",
    "print(\"Manhattan Accuracy:\", accuracy_percent, \"%\")"
   ]
  },
  {
   "cell_type": "code",
   "execution_count": 20,
   "id": "7f7e2557",
   "metadata": {},
   "outputs": [
    {
     "name": "stdout",
     "output_type": "stream",
     "text": [
      "Cosine Accuracy: 100.0 %\n"
     ]
    }
   ],
   "source": [
    "KNN = KNearestNeighbors(k=6, distance_metric=\"cosine\")\n",
    "KNN.fit(X_train, y_train)\n",
    "y_pred = KNN.predict(X_test)\n",
    "tp = 0\n",
    "for i in range(y_pred.size):\n",
    "    if y_pred[i] == y_test[i]:\n",
    "        tp = tp + 1\n",
    "\n",
    "accuracy_percent = (tp / y_pred.size) * 100\n",
    "print(\"Cosine Accuracy:\", accuracy_percent, \"%\")"
   ]
  },
  {
   "cell_type": "code",
   "execution_count": 21,
   "id": "146d052d",
   "metadata": {},
   "outputs": [
    {
     "name": "stdout",
     "output_type": "stream",
     "text": [
      "   0    1    2    3    4    5    6    7    8    9    ...  775  776  777  778  \\\n",
      "0    7    0    0    0    0    0    0    0    0    0  ...    0    0    0    0   \n",
      "1    2    0    0    0    0    0    0    0    0    0  ...    0    0    0    0   \n",
      "2    1    0    0    0    0    0    0    0    0    0  ...    0    0    0    0   \n",
      "3    0    0    0    0    0    0    0    0    0    0  ...    0    0    0    0   \n",
      "4    4    0    0    0    0    0    0    0    0    0  ...    0    0    0    0   \n",
      "\n",
      "   779  780  781  782  783  784  \n",
      "0    0    0    0    0    0    0  \n",
      "1    0    0    0    0    0    0  \n",
      "2    0    0    0    0    0    0  \n",
      "3    0    0    0    0    0    0  \n",
      "4    0    0    0    0    0    0  \n",
      "\n",
      "[5 rows x 785 columns]\n",
      "(10000, 785)\n",
      "32000 8000\n",
      "8000 2000\n"
     ]
    }
   ],
   "source": [
    "df = pd.read_csv(\"mnist_test.csv\", header=None)\n",
    "print(df.head())\n",
    "print(df.shape)\n",
    "\n",
    "random_data = df.sample(frac=0.2, random_state=42)\n",
    "X_test = np.array(random_data.values[:,:4])\n",
    "y_test = np.array(random_data.values[:,4])\n",
    "random_data = df.sample(frac=0.8, random_state=42)\n",
    "X_train = np.array(random_data.values[:,:4])\n",
    "y_train = np.array(random_data.values[:,4])\n",
    "\n",
    "print(X_train.size, X_test.size)\n",
    "print(y_train.size, y_test.size)"
   ]
  },
  {
   "cell_type": "code",
   "execution_count": 22,
   "id": "eebb66b2",
   "metadata": {},
   "outputs": [
    {
     "name": "stdout",
     "output_type": "stream",
     "text": [
      "Euclidean Accuracy on different dataset: 100.0 %\n"
     ]
    }
   ],
   "source": [
    "KNN = KNearestNeighbors(k=4, distance_metric=\"euclidean\")\n",
    "KNN.fit(X_train, y_train)\n",
    "y_pred = KNN.predict(X_test)\n",
    "tp = 0\n",
    "for i in range(y_pred.size):\n",
    "    if y_pred[i] == y_test[i]:\n",
    "        tp = tp + 1\n",
    "\n",
    "accuracy_percent = (tp / y_pred.size) * 100\n",
    "print(\"Euclidean Accuracy on different dataset:\", accuracy_percent, \"%\")"
   ]
  },
  {
   "cell_type": "code",
   "execution_count": 23,
   "id": "46b40572",
   "metadata": {},
   "outputs": [
    {
     "name": "stderr",
     "output_type": "stream",
     "text": [
      "/var/folders/s6/05420dg17ss09b7d4j06bx1w0000gp/T/ipykernel_31594/2955409977.py:20: RuntimeWarning: invalid value encountered in scalar divide\n",
      "  cosine = np.sum(p*q) / (np.sqrt(np.sum(p**2)) * np.sqrt(np.sum(q**2)))\n"
     ]
    },
    {
     "name": "stdout",
     "output_type": "stream",
     "text": [
      "Cosine Accuracy on different dataset: 100.0 %\n"
     ]
    }
   ],
   "source": [
    "KNN = KNearestNeighbors(k=6, distance_metric=\"cosine\")\n",
    "KNN.fit(X_train, y_train)\n",
    "y_pred = KNN.predict(X_test)\n",
    "tp = 0\n",
    "for i in range(y_pred.size):\n",
    "    if y_pred[i] == y_test[i]:\n",
    "        tp = tp + 1\n",
    "\n",
    "accuracy_percent = (tp / y_pred.size) * 100\n",
    "print(\"Cosine Accuracy on different dataset:\", accuracy_percent, \"%\")"
   ]
  }
 ],
 "metadata": {
  "kernelspec": {
   "display_name": "base",
   "language": "python",
   "name": "python3"
  },
  "language_info": {
   "codemirror_mode": {
    "name": "ipython",
    "version": 3
   },
   "file_extension": ".py",
   "mimetype": "text/x-python",
   "name": "python",
   "nbconvert_exporter": "python",
   "pygments_lexer": "ipython3",
   "version": "3.11.5"
  }
 },
 "nbformat": 4,
 "nbformat_minor": 5
}
